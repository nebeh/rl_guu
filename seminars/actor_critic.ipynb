{
 "cells": [
  {
   "cell_type": "markdown",
   "metadata": {},
   "source": [
    "# Actor Critic"
   ]
  },
  {
   "cell_type": "markdown",
   "metadata": {},
   "source": [
    "Метод actor-critic объединяет в себе достоинства методов основанных на политике и на оценке стоимости. Здесь мы оперируем с двумя НС (алгоритмами), Actor и Critic. Actor - аналогичная методу policy gradient нейросеть, за небольшим исключением.  \n",
    "Метод Policy Gradient, градиент функции :\n",
    "$$ \\nabla L = -\\nabla\\log(\\pi(a_t | s_t))R_t $$\n",
    "В методе Actor Critic, градиент Actor:\n",
    "$$ \\nabla L_{actor} = -\\nabla\\log(\\pi(a_t | s_t))A_t $$\n",
    "Где $A_t = Q_t - V_t = r + \\gamma V(s') - V(s)$\n",
    "В свою очередь, значения $V$ оцениваются другой НС, Critic. Градиент Critic:\n",
    "$$ \\nabla L_{critic} = \\nabla(r + V(s') - V(s))^2 $$"
   ]
  },
  {
   "cell_type": "code",
   "execution_count": 28,
   "metadata": {},
   "outputs": [
    {
     "name": "stdout",
     "output_type": "stream",
     "text": [
      "Обучение завершено!\n"
     ]
    }
   ],
   "source": [
    "import numpy as np\n",
    "import torch\n",
    "import torch.nn as nn\n",
    "import torch.optim as optim\n",
    "\n",
    "# Определяем параметры среды\n",
    "N = 10  # Длина клеточного мира\n",
    "num_episodes = 100\n",
    "gamma = 0.99  # Дисконтирующий фактор\n",
    "\n",
    "# Определяем актор и критик\n",
    "class Actor(nn.Module):\n",
    "    def __init__(self):\n",
    "        super(Actor, self).__init__()\n",
    "        self.fc = nn.Linear(1, 2)  # Один вход (состояние), два выхода (действия: влево, вправо)\n",
    "    \n",
    "    def forward(self, x):\n",
    "        return torch.softmax(self.fc(x), dim=-1)\n",
    "\n",
    "class Critic(nn.Module):\n",
    "    def __init__(self):\n",
    "        super(Critic, self).__init__()\n",
    "        self.fc = nn.Linear(1, 1)  # Один вход, один выход (оценка состояния)\n",
    "    \n",
    "    def forward(self, x):\n",
    "        return self.fc(x)\n",
    "\n",
    "# Создаем актор и критик\n",
    "actor = Actor()\n",
    "critic = Critic()\n",
    "actor_optimizer = optim.Adam(actor.parameters(), lr=0.01)\n",
    "critic_optimizer = optim.Adam(critic.parameters(), lr=0.01)\n",
    "\n",
    "# Функция для выбора действия\n",
    "def select_action(state):\n",
    "    state = torch.tensor([[state]], dtype=torch.float32)  # Преобразуем в тензор\n",
    "    probs = actor(state)  # Получаем вероятности действий\n",
    "    action = np.random.choice(2, p=probs.detach().numpy()[0])  # Выбираем действие по вероятностям\n",
    "    return action\n",
    "\n",
    "# Обучение агента\n",
    "for episode in range(num_episodes):\n",
    "    state = 0  # Начальная позиция\n",
    "    done = False\n",
    "    \n",
    "    while not done:\n",
    "        action = select_action(state)  # Выбор действия\n",
    "        \n",
    "        if action == 0:  # Действие: влево\n",
    "            next_state = max(0, state - 1)\n",
    "        else:  # Действие: вправо\n",
    "            next_state = min(N - 1, state + 1)\n",
    "        \n",
    "        reward = 1.0 if next_state == N - 1 else 0.0  # Награда\n",
    "        \n",
    "        # Обучаем критика\n",
    "        state_tensor = torch.tensor([[state]], dtype=torch.float32)\n",
    "        next_state_tensor = torch.tensor([[next_state]], dtype=torch.float32)\n",
    "        \n",
    "        value = critic(state_tensor)\n",
    "        next_value = critic(next_state_tensor)\n",
    "        target = reward + gamma * next_value\n",
    "        \n",
    "        critic_loss = (value - target.detach()).pow(2).mean()\n",
    "        \n",
    "        critic_optimizer.zero_grad()\n",
    "        critic_loss.backward()\n",
    "        critic_optimizer.step()\n",
    "        \n",
    "        # Обучаем актора\n",
    "        advantage = (target - value).detach()\n",
    "        \n",
    "        probs = actor(state_tensor)\n",
    "        action_prob = probs[0, action]\n",
    "        actor_loss = -torch.log(action_prob) * advantage\n",
    "        \n",
    "        actor_optimizer.zero_grad()\n",
    "        actor_loss.backward()\n",
    "        actor_optimizer.step()\n",
    "        \n",
    "        state = next_state\n",
    "        \n",
    "        if state == N - 1:  # Если достигли терминальной клетки\n",
    "            done = True\n",
    "\n",
    "print(\"Обучение завершено!\")\n"
   ]
  },
  {
   "cell_type": "markdown",
   "metadata": {},
   "source": [
    "Стратегия в произвольном состоянии"
   ]
  },
  {
   "cell_type": "code",
   "execution_count": 31,
   "metadata": {},
   "outputs": [
    {
     "data": {
      "text/plain": [
       "tensor([[1.5365e-06, 1.0000e+00]], grad_fn=<SoftmaxBackward0>)"
      ]
     },
     "execution_count": 31,
     "metadata": {},
     "output_type": "execute_result"
    }
   ],
   "source": [
    "probs = actor(torch.tensor([[6]], dtype=torch.float32))\n",
    "probs"
   ]
  }
 ],
 "metadata": {
  "kernelspec": {
   "display_name": "deep",
   "language": "python",
   "name": "python3"
  },
  "language_info": {
   "codemirror_mode": {
    "name": "ipython",
    "version": 3
   },
   "file_extension": ".py",
   "mimetype": "text/x-python",
   "name": "python",
   "nbconvert_exporter": "python",
   "pygments_lexer": "ipython3",
   "version": "3.12.6"
  }
 },
 "nbformat": 4,
 "nbformat_minor": 2
}
