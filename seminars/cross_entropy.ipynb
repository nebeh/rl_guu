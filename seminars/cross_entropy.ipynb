{
 "cells": [
  {
   "cell_type": "markdown",
   "id": "5a96d429-d581-406a-83c9-397e4be537c3",
   "metadata": {},
   "source": [
    "## Метод cross entropy для дискретного случая\n",
    "Среда - клеточный мир размером 1х6\n",
    "\n",
    "![title](environment.png)\n",
    "\n",
    "Цель: достижение терминального состояния за минимальное количество действий"
   ]
  },
  {
   "cell_type": "markdown",
   "id": "8e84ab9a-0190-491d-8885-34faaf95891a",
   "metadata": {},
   "source": [
    "### Для нахождения решения необходимо описать \n",
    "- среду\n",
    "- награду\n",
    "- политику\n",
    "\n",
    "#### Среда\n",
    "Содержит 5 клеток с терминальным состоянием. Агент может перемещаться из каждого состояния влево или вправо. \n",
    "\n",
    "#### Награда\n",
    "За каждый шаг штрафуем агента, стимулируя его закончить сессию как можно скорее\n",
    "\n",
    "#### Политика\n",
    "Политика - это распределение вероятностей по действиям при фиксированном состоянии\n",
    "\n",
    "policy[s,a] = P(take action a | in state s)"
   ]
  },
  {
   "cell_type": "markdown",
   "id": "c24590e9-6b77-4288-bebb-272e345a3df5",
   "metadata": {},
   "source": [
    "## Среда "
   ]
  },
  {
   "cell_type": "code",
   "execution_count": 2,
   "id": "e3c74ba8-e619-4db5-818e-583a27d6aa2e",
   "metadata": {},
   "outputs": [],
   "source": [
    "class env:\n",
    "    def __init__(self,num_cells):\n",
    "        \n",
    "        self.num_cells = num_cells\n",
    "        self.state = 0\n",
    "        self.is_done = False\n",
    "        \n",
    "    def step(self,a):\n",
    "        \n",
    "        if a == 0:\n",
    "            a = -1\n",
    "        \n",
    "        if a == -1 and self.state == 0:\n",
    "            self.state = 0            \n",
    "        elif self.state == self.num_cells-1:\n",
    "            self.is_done = True  \n",
    "        else:\n",
    "            self.state = self.state + a\n",
    "        return self.state\n",
    "            \n",
    "            \n",
    "    def reset(self):\n",
    "        self.state = 0\n",
    "        self.is_done = False       \n",
    "        "
   ]
  },
  {
   "cell_type": "code",
   "execution_count": 27,
   "id": "26b7af8e-bd5e-40e2-a4d7-f53510a65bdb",
   "metadata": {},
   "outputs": [
    {
     "name": "stdout",
     "output_type": "stream",
     "text": [
      "[[0.5 0.5]\n",
      " [0.5 0.5]\n",
      " [0.5 0.5]\n",
      " [0.5 0.5]\n",
      " [0.5 0.5]\n",
      " [0.5 0.5]\n",
      " [0.5 0.5]\n",
      " [0.5 0.5]\n",
      " [0.5 0.5]\n",
      " [0.5 0.5]]\n"
     ]
    }
   ],
   "source": [
    "import numpy as np\n",
    "NUM_CELL = 10 # Количество клеток мира\n",
    "def start_policy(env):\n",
    "    policy = np.ones((env.num_cells,2))/2\n",
    "    return policy\n",
    "\n",
    "t = env(NUM_CELL)\n",
    "# Равномерная (табличная) политика\n",
    "policy = start_policy(t) \n",
    "print(policy)"
   ]
  },
  {
   "cell_type": "code",
   "execution_count": 28,
   "id": "70776098-5c22-4c4f-ba06-36e0577e54dd",
   "metadata": {},
   "outputs": [
    {
     "name": "stdout",
     "output_type": "stream",
     "text": [
      "[0.5 0.5]\n",
      "False\n",
      "1\n"
     ]
    }
   ],
   "source": [
    "t = env(NUM_CELL)\n",
    "policy = start_policy(t)\n",
    "p = policy[t.state]\n",
    "a = np.random.choice(list(range(2)),p = policy[t.state])\n",
    "print(p)\n",
    "print(\"действие агента исходя из политики p: \",a)"
   ]
  },
  {
   "cell_type": "code",
   "execution_count": 5,
   "id": "ec21655c",
   "metadata": {},
   "outputs": [
    {
     "data": {
      "text/plain": [
       "[0, 1]"
      ]
     },
     "execution_count": 5,
     "metadata": {},
     "output_type": "execute_result"
    }
   ],
   "source": [
    "list(range(2))"
   ]
  },
  {
   "cell_type": "code",
   "execution_count": 6,
   "id": "6cbc90b8-8d4f-4403-8aea-e7885091bb70",
   "metadata": {},
   "outputs": [
    {
     "name": "stdout",
     "output_type": "stream",
     "text": [
      "True\n",
      "0\n"
     ]
    }
   ],
   "source": [
    "new_s = t.step(a)\n",
    "print(t.is_done == False)\n",
    "\n",
    "print(new_s)"
   ]
  },
  {
   "cell_type": "code",
   "execution_count": 7,
   "id": "05823248-bd56-446e-af22-58d89be87df7",
   "metadata": {},
   "outputs": [],
   "source": [
    "def generate_sessions(env,policy,num_sells):\n",
    "    states, actions = [], []\n",
    "    total_reward = 0\n",
    "    \n",
    "    s = env(num_sells)\n",
    "    state = 0\n",
    "    \n",
    "    while s.is_done == False:\n",
    "        \n",
    "        states.append(state)\n",
    "        \n",
    "        total_reward += -1\n",
    "        \n",
    "        a = np.random.choice(list(range(2)),p = policy[state])\n",
    "        actions.append(a)\n",
    "        \n",
    "        state = s.step(a)   \n",
    "        \n",
    "        if state == num_sells-1:\n",
    "            s.reset()\n",
    "            break      \n",
    "                 \n",
    "            \n",
    "    return states , actions, total_reward\n",
    "        "
   ]
  },
  {
   "cell_type": "code",
   "execution_count": 8,
   "id": "1e35ff3d-9704-48a1-8b2c-b700afb26b3e",
   "metadata": {},
   "outputs": [],
   "source": [
    "\n",
    "states , actions, total_reward = generate_sessions(env,policy,5)"
   ]
  },
  {
   "cell_type": "code",
   "execution_count": 9,
   "id": "258829ef-9dc6-4330-846e-ec18ba85343d",
   "metadata": {},
   "outputs": [
    {
     "name": "stdout",
     "output_type": "stream",
     "text": [
      "[0, 0, 0, np.int64(1), np.int64(2), np.int64(3), np.int64(2), np.int64(3), np.int64(2), np.int64(1), np.int64(0), np.int64(1), np.int64(2), np.int64(3), np.int64(2), np.int64(1), np.int64(0), np.int64(1), np.int64(0), np.int64(1), np.int64(2), np.int64(3)]\n"
     ]
    }
   ],
   "source": [
    "print(states)"
   ]
  },
  {
   "cell_type": "code",
   "execution_count": 10,
   "id": "fd78bd32-4d75-4542-abd0-bc657be2ff7a",
   "metadata": {},
   "outputs": [
    {
     "data": {
      "text/plain": [
       "<matplotlib.legend.Legend at 0x79e015dfef00>"
      ]
     },
     "execution_count": 10,
     "metadata": {},
     "output_type": "execute_result"
    },
    {
     "data": {
      "image/png": "[encoded data removed]",
      "text/plain": [
       "<Figure size 640x480 with 1 Axes>"
      ]
     },
     "metadata": {},
     "output_type": "display_data"
    }
   ],
   "source": [
    "# let's see the initial reward distribution\n",
    "import matplotlib.pyplot as plt\n",
    "#%matplotlib inline\n",
    "\n",
    "sample_rewards = [generate_sessions(env, policy, 5)[-1] for _ in range(200)]\n",
    "\n",
    "plt.hist(sample_rewards, bins=20)\n",
    "plt.vlines([np.percentile(sample_rewards, 50)], [0], [100], label=\"50'th percentile\", color='green')\n",
    "plt.vlines([np.percentile(sample_rewards, 90)], [0], [100], label=\"90'th percentile\", color='red')\n",
    "plt.legend()"
   ]
  },
  {
   "cell_type": "code",
   "execution_count": 11,
   "id": "eb4ad275",
   "metadata": {},
   "outputs": [
    {
     "data": {
      "text/plain": [
       "array([[0.5, 0.5],\n",
       "       [0.5, 0.5],\n",
       "       [0.5, 0.5],\n",
       "       [0.5, 0.5],\n",
       "       [0.5, 0.5]])"
      ]
     },
     "execution_count": 11,
     "metadata": {},
     "output_type": "execute_result"
    }
   ],
   "source": [
    "policy"
   ]
  },
  {
   "cell_type": "markdown",
   "id": "f9ce870c-2596-458f-95aa-41268958edec",
   "metadata": {},
   "source": [
    "## Метод кросс энтропии"
   ]
  },
  {
   "cell_type": "code",
   "execution_count": 12,
   "id": "698116d9-2304-4062-a4d3-56a317d9191b",
   "metadata": {},
   "outputs": [],
   "source": [
    "\n",
    "def select_elites(states_batch, actions_batch, rewards_batch, percentile):\n",
    "    \n",
    "\n",
    "    # reward_threshold = <YOUR CODE: \n",
    "\n",
    "    # elite_states = <YOUR CODE>\n",
    "    # elite_actions = <YOUR CODE>\n",
    "    #============================================\n",
    "    reward_threshold = np.percentile(rewards_batch,percentile)\n",
    "    \n",
    "    elite_states = []\n",
    "    elite_actions = []\n",
    "    \n",
    "    for i in range(len(states_batch)):\n",
    "        if rewards_batch[i] >= reward_threshold:\n",
    "            elite_states.extend(states_batch[i])\n",
    "            elite_actions.extend(actions_batch[i])\n",
    "\n",
    "    return elite_states, elite_actions"
   ]
  },
  {
   "cell_type": "code",
   "execution_count": 13,
   "id": "4d07b037-f6a5-4a01-a451-6eda8a040af9",
   "metadata": {},
   "outputs": [],
   "source": [
    "states_batch = [\n",
    "    [0, 1, 2,3,4],     # game1\n",
    "    [0, 0, 1, 2],  # game2\n",
    "    [1, 1],        # game3\n",
    "]\n",
    "\n",
    "actions_batch = [\n",
    "    [0, 1, 1,1,1],     # game1\n",
    "    [0, 0, 1, 1],  # game2\n",
    "    [1, 0],        # game3\n",
    "]\n",
    "rewards_batch = [\n",
    "    -6,  # game1\n",
    "    -4,  # game2\n",
    "    -2,  # game3\n",
    "]\n",
    "\n",
    "test_result_0 = select_elites(states_batch, actions_batch, rewards_batch, percentile=0)\n",
    "test_result_30 = select_elites(states_batch, actions_batch, rewards_batch, percentile=30)\n",
    "test_result_90 = select_elites(states_batch, actions_batch, rewards_batch, percentile=90)\n",
    "test_result_100 = select_elites(states_batch, actions_batch, rewards_batch, percentile=100)"
   ]
  },
  {
   "cell_type": "code",
   "execution_count": 14,
   "id": "88a91836",
   "metadata": {},
   "outputs": [],
   "source": [
    "def initialize_policy(n_states, n_actions):\n",
    "\n",
    "    policy = np.ones((n_states,n_actions))/n_actions\n",
    "    return policy\n",
    "\n",
    "policy = initialize_policy(5, 2)"
   ]
  },
  {
   "cell_type": "code",
   "execution_count": 15,
   "id": "c8e749ab-5530-4a39-a320-b5043ff465d9",
   "metadata": {},
   "outputs": [
    {
     "data": {
      "text/plain": [
       "([0, np.int64(1), np.int64(2), np.int64(3)],\n",
       " [np.int64(1), np.int64(1), np.int64(1), np.int64(1)])"
      ]
     },
     "execution_count": 15,
     "metadata": {},
     "output_type": "execute_result"
    }
   ],
   "source": [
    "policy = initialize_policy(5, 2)\n",
    "n_sessions = 10\n",
    "sessions = [ generate_sessions(env,policy,5) for i in range(n_sessions)]\n",
    "states_batch, actions_batch, rewards_batch = zip(*sessions)\n",
    "\n",
    "test_result_0 = select_elites(states_batch, actions_batch, rewards_batch, percentile=0)\n",
    "test_result_30 = select_elites(states_batch, actions_batch, rewards_batch, percentile=30)\n",
    "test_result_90 = select_elites(states_batch, actions_batch, rewards_batch, percentile=90)\n",
    "test_result_100 = select_elites(states_batch, actions_batch, rewards_batch, percentile=100)\n",
    "\n",
    "test_result_90"
   ]
  },
  {
   "cell_type": "code",
   "execution_count": 16,
   "id": "e6419de5-a245-4ef0-8c5c-626967c87eb3",
   "metadata": {},
   "outputs": [],
   "source": [
    "def get_new_policy(elite_states, elite_actions):\n",
    "    \"\"\"\n",
    "\n",
    "    \"\"\"\n",
    "    n_states = 5\n",
    "    n_actions = 2\n",
    "    new_policy = np.zeros([5, 2])\n",
    "    \n",
    "    #=============================\n",
    "    for i in range(len(elite_states)):\n",
    "        new_policy[elite_states[i],elite_actions[i]] += 1\n",
    "        \n",
    "    for i in range(n_states):\n",
    "        if np.sum(new_policy[i])>0:\n",
    "            new_policy[i] /= new_policy[i].sum()\n",
    "        else:\n",
    "            new_policy[i] = np.ones(n_actions)/n_actions\n",
    "    #==============================\n",
    "    return new_policy\n"
   ]
  },
  {
   "cell_type": "code",
   "execution_count": 17,
   "id": "0107cce6-a569-458c-9782-e939310aefa2",
   "metadata": {},
   "outputs": [
    {
     "name": "stdout",
     "output_type": "stream",
     "text": [
      "[[0.47368421 0.52631579]\n",
      " [0.47368421 0.52631579]\n",
      " [0.375      0.625     ]\n",
      " [0.28571429 0.71428571]\n",
      " [0.5        0.5       ]]\n"
     ]
    }
   ],
   "source": [
    "\n",
    "\n",
    "test_result_50 = select_elites(states_batch, actions_batch, rewards_batch, percentile=50)\n",
    "new_pol = get_new_policy(states_batch, actions_batch)\n",
    "print(new_pol)"
   ]
  },
  {
   "cell_type": "code",
   "execution_count": 18,
   "id": "99b19aa8-e2cd-4320-94b7-5de25a3e88df",
   "metadata": {},
   "outputs": [],
   "source": [
    "def initialize_policy(n_states, n_actions):\n",
    "\n",
    "    policy = np.ones((n_states,n_actions))/n_actions\n",
    "    return policy\n",
    "\n",
    "policy = initialize_policy(5, 2)\n",
    "\n"
   ]
  },
  {
   "cell_type": "markdown",
   "id": "ccbf6525-4412-4924-beff-c75cfd7401b1",
   "metadata": {},
   "source": [
    "## Цикл обучени"
   ]
  },
  {
   "cell_type": "code",
   "execution_count": 19,
   "id": "4de1eec5-3353-472e-80f8-621b8dac85bc",
   "metadata": {},
   "outputs": [],
   "source": [
    "from IPython.display import clear_output\n",
    "\n",
    "def show_progress(rewards_batch, log, percentile, reward_range=[-990, +10]):\n",
    "\n",
    "\n",
    "    mean_reward = np.mean(rewards_batch)\n",
    "    threshold = np.percentile(rewards_batch, percentile)\n",
    "    log.append([mean_reward, threshold])\n",
    "    \n",
    "    plt.figure(figsize=[8, 4])\n",
    "    plt.subplot(1, 2, 1)\n",
    "    plt.plot(list(zip(*log))[0], label='Mean rewards')\n",
    "    plt.plot(list(zip(*log))[1], label='Reward thresholds')\n",
    "    plt.legend()\n",
    "    plt.grid()\n",
    "\n",
    "    plt.subplot(1, 2, 2)\n",
    "    plt.hist(rewards_batch, range=reward_range)\n",
    "    plt.vlines([np.percentile(rewards_batch, percentile)],\n",
    "               [0], [100], label=\"percentile\", color='red')\n",
    "    plt.legend()\n",
    "    plt.grid()\n",
    "    clear_output(True)\n",
    "    print(\"mean reward = %.3f, threshold=%.3f\" % (mean_reward, threshold))\n",
    "    plt.show()"
   ]
  },
  {
   "cell_type": "code",
   "execution_count": 20,
   "id": "a0c3c8d7-51ee-4851-8e6e-3936e58a8438",
   "metadata": {},
   "outputs": [],
   "source": [
    "policy = initialize_policy(5, 2)\n",
    "\n"
   ]
  },
  {
   "cell_type": "code",
   "execution_count": 21,
   "id": "74c9e52d-a19b-4879-9665-cbcdb62606aa",
   "metadata": {},
   "outputs": [
    {
     "name": "stdout",
     "output_type": "stream",
     "text": [
      "mean reward = -4.000, threshold=-4.000\n"
     ]
    },
    {
     "data": {
      "image/png": "[encoded data removed]",
      "text/plain": [
       "<Figure size 800x400 with 2 Axes>"
      ]
     },
     "metadata": {},
     "output_type": "display_data"
    }
   ],
   "source": [
    "n_sessions = 5     # sample this many sessions\n",
    "percentile = 50      # discard this percentage of sessions with lowest rewards\n",
    "learning_rate = 0.5  # how quickly the policy is updated, on a scale from 0 to 1\n",
    "sessions = []\n",
    "log = []\n",
    "elite_states = []\n",
    "elite_actions = []\n",
    "for i in range(10):\n",
    "    \n",
    "    #%time sessions = [ <YOUR CODE: generate a list of n_sessions new sessions> ]\n",
    "    #================================\n",
    "    #%time \n",
    "    sessions = [ generate_sessions(env,policy,5) for i in range(n_sessions)]\n",
    "    #=================\n",
    "    states_batch, actions_batch, rewards_batch = zip(*sessions)\n",
    "    \n",
    "    #============================\n",
    "    #elite_states, elite_actions = <YOUR CODE: select elite states & actions>\n",
    "    elite_states, elite_actions = select_elites(states_batch, actions_batch, rewards_batch, percentile=50)\n",
    "\n",
    "    # new_policy = <YOUR CODE: compute new policy>\n",
    "    new_policy = get_new_policy(elite_states,elite_actions)\n",
    "    #new_policy = update_policy(elite_states,elite_actions)\n",
    "  \n",
    "    policy = learning_rate * new_policy + (1 - learning_rate) * policy\n",
    "   \n",
    "    # display results on chart\n",
    "    show_progress(rewards_batch, log, percentile)"
   ]
  },
  {
   "cell_type": "code",
   "execution_count": 22,
   "id": "a6d9f94e-1d1f-4904-b24d-176a369ea1f0",
   "metadata": {},
   "outputs": [
    {
     "name": "stdout",
     "output_type": "stream",
     "text": [
      "[[8.15873580e-03 9.91841264e-01]\n",
      " [8.13802083e-04 9.99186198e-01]\n",
      " [7.81250000e-04 9.99218750e-01]\n",
      " [2.02287946e-03 9.97977121e-01]\n",
      " [5.00000000e-01 5.00000000e-01]]\n"
     ]
    }
   ],
   "source": [
    "print(policy)"
   ]
  },
  {
   "cell_type": "code",
   "execution_count": 26,
   "id": "a41158b4",
   "metadata": {},
   "outputs": [
    {
     "data": {
      "text/plain": [
       "5"
      ]
     },
     "execution_count": 26,
     "metadata": {},
     "output_type": "execute_result"
    }
   ],
   "source": [
    "sessions"
   ]
  }
 ],
 "metadata": {
  "kernelspec": {
   "display_name": "Python 3 (ipykernel)",
   "language": "python",
   "name": "python3"
  },
  "language_info": {
   "codemirror_mode": {
    "name": "ipython",
    "version": 3
   },
   "file_extension": ".py",
   "mimetype": "text/x-python",
   "name": "python",
   "nbconvert_exporter": "python",
   "pygments_lexer": "ipython3",
   "version": "3.12.6"
  }
 },
 "nbformat": 4,
 "nbformat_minor": 5
}
