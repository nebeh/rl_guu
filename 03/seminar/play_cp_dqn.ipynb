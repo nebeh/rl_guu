{
 "cells": [
  {
   "cell_type": "code",
   "execution_count": 5,
   "id": "d89415ba-912f-484c-841c-66ad3e210ad3",
   "metadata": {},
   "outputs": [
    {
     "name": "stdout",
     "output_type": "stream",
     "text": [
      "input_dim:  4 , output_dim:  2 , hidden_dim:  16\n"
     ]
    }
   ],
   "source": [
    "import gym\n",
    "import torch\n",
    "from agent import Agent, FloatTensor\n",
    "import time\n",
    "import tqdm as notebook_tqdm\n",
    "env = gym.make('CartPole-v1')\n",
    "## env_v1 = gym.make('CartPole-v1')\n",
    "\n",
    "# input_dim,  output_dim, hidden_dim  are the same for v0 and v1, go dqn and ddqn\n",
    "input_dim =  env.observation_space.shape[0] \n",
    "output_dim = env.action_space.n \n",
    "hidden_dim = 16\n",
    "agent = Agent(input_dim, output_dim, hidden_dim)        \n",
    "print('input_dim: ', input_dim, ', output_dim: ', output_dim, ', hidden_dim: ', hidden_dim)"
   ]
  },
  {
   "cell_type": "code",
   "execution_count": 6,
   "id": "fd9b2505-cf4c-4c66-b675-c43f94514f62",
   "metadata": {},
   "outputs": [],
   "source": [
    "def load(agent, directory, filename):\n",
    "    agent.q_local.load_state_dict(\n",
    "        torch.load('%s/%s_local.pth' % (directory,  filename)))\n",
    "    agent.q_target.load_state_dict(\n",
    "        torch.load('%s/%s_target.pth' % (directory,  filename)))"
   ]
  },
  {
   "cell_type": "code",
   "execution_count": 7,
   "id": "04b4d1ce-35c8-441e-9b8a-94a2f92901bc",
   "metadata": {},
   "outputs": [],
   "source": [
    "from collections import deque\n",
    "import os\n",
    "import numpy as np\n",
    "\n",
    "def play(env, agent, n_episodes):\n",
    "    state = env.reset()\n",
    "    \n",
    "    scores_deque = deque(maxlen=100)\n",
    "\n",
    "    for i_episode in range(1, n_episodes+1):\n",
    "        s = env.reset()        \n",
    "        \n",
    "        total_reward = 0\n",
    "        time_start = time.time()\n",
    "        timesteps =  0\n",
    "        \n",
    "        while True:\n",
    "            \n",
    "            a = agent.get_action(FloatTensor([s]), check_eps=False, eps=0.0)\n",
    "            env.render()\n",
    "            s2, r, done, _ = env.step(a.item())\n",
    "            s = s2\n",
    "            total_reward += r\n",
    "            timesteps += 1\n",
    "            \n",
    "            if done:\n",
    "                break \n",
    "\n",
    "        delta = (int)(time.time() - time_start)\n",
    "        \n",
    "        scores_deque.append(total_reward)\n",
    "\n",
    "        print('Episode {}\\tAverage Score: {:.2f}, \\t Timesteps: {} \\tTime: {:02}:{:02}:{:02}'\\\n",
    "                  .format(i_episode, np.mean(scores_deque), timesteps,\\\n",
    "                          delta//3600, delta%3600//60, delta%60))"
   ]
  },
  {
   "cell_type": "code",
   "execution_count": 8,
   "id": "50fc1954-32d1-41ef-88c9-386ec809f3ec",
   "metadata": {},
   "outputs": [
    {
     "name": "stdout",
     "output_type": "stream",
     "text": [
      "Episode 1\tAverage Score: 179.00, \t Timesteps: 179 \tTime: 00:00:03\n",
      "Episode 2\tAverage Score: 191.50, \t Timesteps: 204 \tTime: 00:00:04\n",
      "Episode 3\tAverage Score: 189.33, \t Timesteps: 185 \tTime: 00:00:03\n",
      "Episode 4\tAverage Score: 189.50, \t Timesteps: 190 \tTime: 00:00:03\n",
      "Episode 5\tAverage Score: 186.60, \t Timesteps: 175 \tTime: 00:00:03\n"
     ]
    }
   ],
   "source": [
    "load(agent, 'models', 'ddq')\n",
    "play(env=env, agent=agent, n_episodes=5)\n",
    "env.close()"
   ]
  },
  {
   "cell_type": "code",
   "execution_count": null,
   "id": "20ce8f50-5eb1-4894-83d2-e33f61dc8a0d",
   "metadata": {},
   "outputs": [],
   "source": []
  }
 ],
 "metadata": {
  "kernelspec": {
   "display_name": "Python 3 (ipykernel)",
   "language": "python",
   "name": "python3"
  },
  "language_info": {
   "codemirror_mode": {
    "name": "ipython",
    "version": 3
   },
   "file_extension": ".py",
   "mimetype": "text/x-python",
   "name": "python",
   "nbconvert_exporter": "python",
   "pygments_lexer": "ipython3",
   "version": "3.10.6"
  }
 },
 "nbformat": 4,
 "nbformat_minor": 5
}
