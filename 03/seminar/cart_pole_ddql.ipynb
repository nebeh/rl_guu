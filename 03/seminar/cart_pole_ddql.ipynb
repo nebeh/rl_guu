{
 "cells": [
  {
   "cell_type": "code",
   "execution_count": 11,
   "id": "26dfd336-9eac-48c3-871f-5ba9767f7196",
   "metadata": {},
   "outputs": [
    {
     "name": "stdout",
     "output_type": "stream",
     "text": [
      "input_dim:  4 , output_dim:  2 , hidden_dim:  32\n",
      "threshold:  475.0\n"
     ]
    }
   ],
   "source": [
    "import gym\n",
    "import numpy as np\n",
    "import torch\n",
    "import matplotlib\n",
    "import matplotlib.pyplot as plt\n",
    "import time\n",
    "import tqdm as notebook_tqdm\n",
    "\n",
    "from collections import deque\n",
    "from ddqn_agent import Agent, FloatTensor\n",
    "\n",
    "# set up matplotlib\n",
    "is_ipython = 'inline' in matplotlib.get_backend()\n",
    "#if is_ipython:\n",
    "    #from IPython import display\n",
    "\n",
    "plt.ion()\n",
    "\n",
    "use_cuda = torch.cuda.is_available()\n",
    "#FloatTensor = torch.cuda.FloatTensor if use_cuda else torch.FloatTensor\n",
    "device = torch.device(\"cuda\" if use_cuda else \"cpu\")\n",
    "\n",
    "BATCH_SIZE = 64  \n",
    "TAU = 0.005 # 1e-3   # for soft update of target parameters\n",
    "gamma = 0.99\n",
    "LEARNING_RATE = 0.001\n",
    "TARGET_UPDATE = 10\n",
    "\n",
    "num_episodes = 2**9\n",
    "print_every = 10\n",
    "hidden_dim = 32 ## 16 \n",
    "min_eps = 0.01\n",
    "max_eps_episode = 150 ## 50\n",
    "\n",
    "env = gym.make('CartPole-v1')\n",
    "        \n",
    "space_dim =  env.observation_space.shape[0] # n_spaces\n",
    "action_dim = env.action_space.n # n_actions  \n",
    "print('input_dim: ', space_dim, ', output_dim: ', action_dim, ', hidden_dim: ', hidden_dim)\n",
    "\n",
    "threshold = env.spec.reward_threshold\n",
    "print('threshold: ', threshold)\n",
    "\n",
    "agent = Agent(space_dim, action_dim, hidden_dim)\n"
   ]
  },
  {
   "cell_type": "code",
   "execution_count": 12,
   "id": "9e1d5c22-1b12-4c5d-ae6c-209f0b0dcdd6",
   "metadata": {},
   "outputs": [],
   "source": [
    "def epsilon_annealing(i_epsiode, max_episode, min_eps: float):\n",
    "    \"\"\"\n",
    "    \"\"\"\n",
    "    t = i_epsiode // 50\n",
    "    ret_eps = max(1/(t+1),min_eps)\n",
    "    return ret_eps         \n",
    "\n",
    "def save(directory, filename):\n",
    "    torch.save(agent.q_local.state_dict(), '%s/%s_local.pth' % (directory, filename))\n",
    "    torch.save(agent.q_target.state_dict(), '%s/%s_target.pth' % (directory, filename))"
   ]
  },
  {
   "cell_type": "code",
   "execution_count": 13,
   "id": "f118cbbc-6f75-4b80-8ffd-fbce34a88ead",
   "metadata": {},
   "outputs": [],
   "source": [
    "def run_episode(env, agent, eps):\n",
    "\n",
    "    state = env.reset()\n",
    "    done = False\n",
    "    total_reward = 0\n",
    "    \n",
    "\n",
    "    while not done:\n",
    "\n",
    "        action = agent.get_action(FloatTensor([state]), eps)\n",
    "        \n",
    "        next_state, reward, done, _ = env.step(action.item())\n",
    "\n",
    "        total_reward += reward\n",
    "\n",
    "        if done:\n",
    "            reward = -1\n",
    "                    \n",
    "        # Store the transition in memory\n",
    "        agent.replay_memory.push((FloatTensor([state]),action, FloatTensor([reward]), \n",
    "                 FloatTensor([next_state]), FloatTensor([done])))             \n",
    "\n",
    "        if len(agent.replay_memory) > BATCH_SIZE:\n",
    "\n",
    "            batch = agent.replay_memory.sample(BATCH_SIZE)\n",
    "            \n",
    "            agent.learn(batch, gamma)\n",
    "\n",
    "        state = next_state\n",
    "\n",
    "\n",
    "    return total_reward\n",
    "#%%"
   ]
  },
  {
   "cell_type": "code",
   "execution_count": 14,
   "id": "528d6f0e-497d-4a30-a0b5-db1af02d03f6",
   "metadata": {},
   "outputs": [
    {
     "name": "stdout",
     "output_type": "stream",
     "text": [
      "Episode:    10 Score:  14.0  Avg.Score: 16.55, eps-greedy:  1.00 Time: 00:00:00\n",
      "Episode:    20 Score:  17.0  Avg.Score: 16.95, eps-greedy:  1.00 Time: 00:00:00\n",
      "Episode:    30 Score:  13.0  Avg.Score: 17.94, eps-greedy:  1.00 Time: 00:00:00\n",
      "Episode:    40 Score:  17.0  Avg.Score: 20.12, eps-greedy:  1.00 Time: 00:00:00\n",
      "Episode:    50 Score:  16.0  Avg.Score: 19.75, eps-greedy:  0.50 Time: 00:00:00\n",
      "Episode:    60 Score:  18.0  Avg.Score: 18.79, eps-greedy:  0.50 Time: 00:00:01\n",
      "Episode:    70 Score:  11.0  Avg.Score: 17.87, eps-greedy:  0.50 Time: 00:00:01\n",
      "Episode:    80 Score:  11.0  Avg.Score: 17.64, eps-greedy:  0.50 Time: 00:00:01\n",
      "Episode:    90 Score:  13.0  Avg.Score: 17.13, eps-greedy:  0.50 Time: 00:00:01\n",
      "Episode:   100 Score:  20.0  Avg.Score: 18.10, eps-greedy:  0.33 Time: 00:00:01\n",
      "Episode:   110 Score: 144.0  Avg.Score: 21.43, eps-greedy:  0.33 Time: 00:00:02\n",
      "Episode:   120 Score:  50.0  Avg.Score: 25.39, eps-greedy:  0.33 Time: 00:00:02\n",
      "Episode:   130 Score:  66.0  Avg.Score: 28.78, eps-greedy:  0.33 Time: 00:00:03\n",
      "Episode:   140 Score:  14.0  Avg.Score: 30.83, eps-greedy:  0.33 Time: 00:00:04\n",
      "Episode:   150 Score:  63.0  Avg.Score: 34.97, eps-greedy:  0.25 Time: 00:00:04\n",
      "Episode:   160 Score:  54.0  Avg.Score: 39.29, eps-greedy:  0.25 Time: 00:00:05\n",
      "Episode:   170 Score:  67.0  Avg.Score: 43.50, eps-greedy:  0.25 Time: 00:00:06\n",
      "Episode:   180 Score:  50.0  Avg.Score: 49.50, eps-greedy:  0.25 Time: 00:00:06\n",
      "Episode:   190 Score:  39.0  Avg.Score: 55.68, eps-greedy:  0.25 Time: 00:00:07\n",
      "Episode:   200 Score: 118.0  Avg.Score: 64.19, eps-greedy:  0.20 Time: 00:00:09\n",
      "Episode:   210 Score: 171.0  Avg.Score: 73.49, eps-greedy:  0.20 Time: 00:00:10\n",
      "Episode:   220 Score: 195.0  Avg.Score: 91.31, eps-greedy:  0.20 Time: 00:00:13\n",
      "Episode:   230 Score: 202.0  Avg.Score: 104.73, eps-greedy:  0.20 Time: 00:00:15\n",
      "Episode:   240 Score: 248.0  Avg.Score: 125.78, eps-greedy:  0.20 Time: 00:00:18\n",
      "Episode:   250 Score: 228.0  Avg.Score: 141.16, eps-greedy:  0.17 Time: 00:00:20\n",
      "Episode:   260 Score: 216.0  Avg.Score: 159.67, eps-greedy:  0.17 Time: 00:00:23\n",
      "Episode:   270 Score: 276.0  Avg.Score: 181.56, eps-greedy:  0.17 Time: 00:00:26\n",
      "Episode:   280 Score: 210.0  Avg.Score: 206.55, eps-greedy:  0.17 Time: 00:00:30\n",
      "Episode:   290 Score:  21.0  Avg.Score: 213.21, eps-greedy:  0.17 Time: 00:00:32\n",
      "Episode:   300 Score:  22.0  Avg.Score: 204.27, eps-greedy:  0.14 Time: 00:00:32\n",
      "Episode:   310 Score:  87.0  Avg.Score: 200.05, eps-greedy:  0.14 Time: 00:00:33\n",
      "Episode:   320 Score: 104.0  Avg.Score: 188.09, eps-greedy:  0.14 Time: 00:00:34\n",
      "Episode:   330 Score: 147.0  Avg.Score: 184.28, eps-greedy:  0.14 Time: 00:00:36\n",
      "Episode:   340 Score: 133.0  Avg.Score: 174.91, eps-greedy:  0.14 Time: 00:00:38\n",
      "Episode:   350 Score: 213.0  Avg.Score: 175.84, eps-greedy:  0.12 Time: 00:00:40\n",
      "Episode:   360 Score: 271.0  Avg.Score: 178.02, eps-greedy:  0.12 Time: 00:00:43\n",
      "Episode:   370 Score: 234.0  Avg.Score: 176.39, eps-greedy:  0.12 Time: 00:00:46\n",
      "Episode:   380 Score: 193.0  Avg.Score: 164.10, eps-greedy:  0.12 Time: 00:00:48\n",
      "Episode:   390 Score: 206.0  Avg.Score: 171.96, eps-greedy:  0.12 Time: 00:00:51\n",
      "Episode:   400 Score: 181.0  Avg.Score: 188.88, eps-greedy:  0.11 Time: 00:00:53\n",
      "Episode:   410 Score: 204.0  Avg.Score: 198.52, eps-greedy:  0.11 Time: 00:00:55\n",
      "Episode:   420 Score: 237.0  Avg.Score: 208.74, eps-greedy:  0.11 Time: 00:00:57\n",
      "Episode:   430 Score: 259.0  Avg.Score: 224.35, eps-greedy:  0.11 Time: 00:01:01\n",
      "Episode:   440 Score: 261.0  Avg.Score: 236.62, eps-greedy:  0.11 Time: 00:01:04\n",
      "Episode:   450 Score: 295.0  Avg.Score: 248.22, eps-greedy:  0.10 Time: 00:01:09\n",
      "Episode:   460 Score: 379.0  Avg.Score: 253.74, eps-greedy:  0.10 Time: 00:01:12\n",
      "Episode:   470 Score: 457.0  Avg.Score: 265.98, eps-greedy:  0.10 Time: 00:01:17\n",
      "Episode:   480 Score:  10.0  Avg.Score: 264.58, eps-greedy:  0.10 Time: 00:01:20\n",
      "Episode:   490 Score:  14.0  Avg.Score: 244.56, eps-greedy:  0.10 Time: 00:01:21\n",
      "Episode:   500 Score:  13.0  Avg.Score: 226.90, eps-greedy:  0.09 Time: 00:01:21\n",
      "Episode:   510 Score:  10.0  Avg.Score: 209.12, eps-greedy:  0.09 Time: 00:01:21\n"
     ]
    }
   ],
   "source": [
    "def train():    \n",
    "\n",
    "    scores_deque = deque(maxlen=100)\n",
    "    scores_array = []\n",
    "    avg_scores_array = []    \n",
    "    \n",
    "    time_start = time.time()\n",
    "\n",
    "    for i_episode in range(num_episodes):\n",
    "        eps = epsilon_annealing(i_episode, max_eps_episode, min_eps)\n",
    "        score = run_episode(env, agent, eps)\n",
    "\n",
    "        scores_deque.append(score)\n",
    "        scores_array.append(score)\n",
    "        \n",
    "        avg_score = np.mean(scores_deque)\n",
    "        avg_scores_array.append(avg_score)\n",
    "\n",
    "        dt = (int)(time.time() - time_start)\n",
    "            \n",
    "        if i_episode % print_every == 0 and i_episode > 0:\n",
    "            print('Episode: {:5} Score: {:5}  Avg.Score: {:.2f}, eps-greedy: {:5.2f} Time: {:02}:{:02}:{:02}'.\\\n",
    "                    format(i_episode, score, avg_score, eps, dt//3600, dt%3600//60, dt%60))\n",
    "            \n",
    "        if len(scores_deque) == scores_deque.maxlen:\n",
    "            ### 195.0: for cartpole-v0 and 475 for v1\n",
    "            if np.mean(scores_deque) >= threshold: \n",
    "                print('\\n Environment solved in {:d} episodes!\\tAverage Score: {:.2f}'. \\\n",
    "                    format(i_episode, np.mean(scores_deque)))\n",
    "                break\n",
    "\n",
    "                        \n",
    "        if i_episode % TARGET_UPDATE == 0:\n",
    "            agent.q_target.load_state_dict(agent.q_local.state_dict()) \n",
    "    \n",
    "    return scores_array, avg_scores_array\n",
    "\n",
    "scores, avg_scores = train()"
   ]
  },
  {
   "cell_type": "code",
   "execution_count": 10,
   "id": "32336a73-b2e8-49d8-965c-d2eeaab00b51",
   "metadata": {},
   "outputs": [
    {
     "name": "stdout",
     "output_type": "stream",
     "text": [
      "length of scores:  256 , len of avg_scores:  256\n"
     ]
    },
    {
     "data": {
      "image/png": "[encoded data removed]",
      "text/plain": [
       "<Figure size 432x288 with 1 Axes>"
      ]
     },
     "metadata": {
      "needs_background": "light"
     },
     "output_type": "display_data"
    }
   ],
   "source": [
    "save('models/', 'ddq')\n",
    "import matplotlib.pyplot as plt\n",
    "%matplotlib inline\n",
    "\n",
    "print('length of scores: ', len(scores), ', len of avg_scores: ', len(avg_scores))\n",
    "\n",
    "fig = plt.figure()\n",
    "ax = fig.add_subplot(111)\n",
    "plt.plot(np.arange(1, len(scores)+1), scores, label=\"Score\")\n",
    "plt.plot(np.arange(1, len(avg_scores)+1), avg_scores, label=\"Avg on 100 episodes\")\n",
    "plt.legend(bbox_to_anchor=(1.05, 1)) \n",
    "plt.ylabel('Score')\n",
    "plt.xlabel('Episodes #')\n",
    "plt.show()"
   ]
  },
  {
   "cell_type": "code",
   "execution_count": null,
   "id": "44d49388-f231-4645-b8ea-ff33315400d4",
   "metadata": {},
   "outputs": [],
   "source": []
  }
 ],
 "metadata": {
  "kernelspec": {
   "display_name": "Python 3 (ipykernel)",
   "language": "python",
   "name": "python3"
  },
  "language_info": {
   "codemirror_mode": {
    "name": "ipython",
    "version": 3
   },
   "file_extension": ".py",
   "mimetype": "text/x-python",
   "name": "python",
   "nbconvert_exporter": "python",
   "pygments_lexer": "ipython3",
   "version": "3.10.6"
  }
 },
 "nbformat": 4,
 "nbformat_minor": 5
}
